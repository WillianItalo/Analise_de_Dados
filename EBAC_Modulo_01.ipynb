{
  "nbformat": 4,
  "nbformat_minor": 0,
  "metadata": {
    "colab": {
      "provenance": [],
      "collapsed_sections": [
        "VQsIlvs6V4mF",
        "NLbbEgLl80OH",
        "JzkN01NVZ_CE",
        "B4AdYEcPDDlC",
        "xY0q5fk6CSv0",
        "-Sm4js8eJu-B",
        "fLGqxQeXR4Qt",
        "0JoMwEgXZGyD",
        "C8ukNbyW2K51",
        "Xkl9pnj13xg5",
        "b1X1wCPFHo7s",
        "uXW-blfDUCPP",
        "EakIvCdZULT1",
        "TQA3SzMadwtp",
        "4HOTFs2Pd_4h",
        "3IMXbpL-ePI6"
      ],
      "include_colab_link": true
    },
    "kernelspec": {
      "name": "python3",
      "display_name": "Python 3"
    },
    "language_info": {
      "name": "python"
    }
  },
  "cells": [
    {
      "cell_type": "markdown",
      "metadata": {
        "id": "view-in-github",
        "colab_type": "text"
      },
      "source": [
        "<a href=\"https://colab.research.google.com/github/WillianItalo/Analise_de_Dados/blob/main/EBAC_Modulo_01.ipynb\" target=\"_parent\"><img src=\"https://colab.research.google.com/assets/colab-badge.svg\" alt=\"Open In Colab\"/></a>"
      ]
    },
    {
      "cell_type": "markdown",
      "source": [
        "# 1. Hello World!"
      ],
      "metadata": {
        "id": "VQsIlvs6V4mF"
      }
    },
    {
      "cell_type": "code",
      "source": [
        "print(\"Hello World\")"
      ],
      "metadata": {
        "id": "MH7NOb9ZV4TE"
      },
      "execution_count": null,
      "outputs": []
    },
    {
      "cell_type": "markdown",
      "source": [
        "**Caderno** (notebooks)"
      ],
      "metadata": {
        "id": "pR8mwrrM-ZOA"
      }
    },
    {
      "cell_type": "markdown",
      "source": [
        "  Um **caderno** é um documento web composto por um conjunto de elementos (células) de texto e código:\n",
        "\n",
        "\n",
        "*   Células de **texto** podem ser editados com o editor de ferramenta HTML ou Markdown;\n",
        "*   Células de **código** são exclusivamente para a linguagem de programação Python.\n",
        "\n"
      ],
      "metadata": {
        "id": "WLY3N15V-xVT"
      }
    },
    {
      "cell_type": "markdown",
      "source": [
        "# **2. Variáveis**\n"
      ],
      "metadata": {
        "id": "NLbbEgLl80OH"
      }
    },
    {
      "cell_type": "markdown",
      "source": [
        "### **2.1 Definição**"
      ],
      "metadata": {
        "id": "JzkN01NVZ_CE"
      }
    },
    {
      "cell_type": "markdown",
      "source": [
        "Mecanismo de armazenamento volátil de dados, ou seja, dados salvos em pedacinhos da memória RAM do sistema computacional em uso (notebook, mobile, console de vídeo fame, smartwatch, etc.).\n"
      ],
      "metadata": {
        "id": "5nGMiBeDH34r"
      }
    },
    {
      "cell_type": "code",
      "source": [
        "minha_primeira_variavel = \"olá, mundo!\"\n",
        "print(minha_primeira_variavel)"
      ],
      "metadata": {
        "id": "T2aOx4V2I7l4"
      },
      "execution_count": null,
      "outputs": []
    },
    {
      "cell_type": "code",
      "source": [
        "idade = 30\n",
        "print(idade)\n",
        "\n",
        "idade = 27\n",
        "print(idade)\n",
        "\n",
        "nome = \"André\"\n",
        "print(nome)"
      ],
      "metadata": {
        "id": "uKPuHLT-Z8jD"
      },
      "execution_count": null,
      "outputs": []
    },
    {
      "cell_type": "markdown",
      "source": [
        "### **2.2 Tipos nativos**"
      ],
      "metadata": {
        "id": "B4AdYEcPDDlC"
      }
    },
    {
      "cell_type": "markdown",
      "source": [
        "**Tipos de numéricos:** Inteiros(int) e decimais(float):\n"
      ],
      "metadata": {
        "id": "Ijqb5MQv9Exo"
      }
    },
    {
      "cell_type": "code",
      "source": [
        "preco = 1000\n",
        "tipo_preco = type(preco)\n",
        "\n",
        "print(preco)\n",
        "print(tipo_preco)\n",
        "\n",
        "juros = 0.05\n",
        "tipo_juros = type(juros)\n",
        "\n",
        "print(juros)\n",
        "print(tipo_juros)"
      ],
      "metadata": {
        "id": "Y3kzfJ8c9cyq"
      },
      "execution_count": null,
      "outputs": []
    },
    {
      "cell_type": "markdown",
      "source": [
        "**Tipo de texto:** strings(str):"
      ],
      "metadata": {
        "id": "LF5DyY4tKta6"
      }
    },
    {
      "cell_type": "code",
      "source": [
        "primeiro_nome = \"André\"\n",
        "print(type(primeiro_nome))\n",
        "\n",
        "pais = \"Brasil\"\n",
        "print(type(pais))"
      ],
      "metadata": {
        "id": "aixoSO3a-wdB"
      },
      "execution_count": null,
      "outputs": []
    },
    {
      "cell_type": "markdown",
      "source": [
        "**Tipo lógicos:** booleanos (bool):"
      ],
      "metadata": {
        "id": "SdVpLQ7tAtOo"
      }
    },
    {
      "cell_type": "code",
      "source": [
        "usuario_maior_de_idade = False\n",
        "print(type(usuario_maior_de_idade))"
      ],
      "metadata": {
        "id": "oGwFN-xNAsRK"
      },
      "execution_count": null,
      "outputs": []
    },
    {
      "cell_type": "markdown",
      "source": [
        "**Tipo vazio** (NoneType):"
      ],
      "metadata": {
        "id": "B_2uZVkLBiJu"
      }
    },
    {
      "cell_type": "code",
      "source": [
        "telefone_fixo = None\n",
        "print(type(telefone_fixo))"
      ],
      "metadata": {
        "id": "8-PsbngTBtBu"
      },
      "execution_count": null,
      "outputs": []
    },
    {
      "cell_type": "markdown",
      "source": [
        "# **3. Números**\n"
      ],
      "metadata": {
        "id": "xY0q5fk6CSv0"
      }
    },
    {
      "cell_type": "markdown",
      "source": [
        "### **3.1 Motivação Tipos nativos**"
      ],
      "metadata": {
        "id": "-Sm4js8eJu-B"
      }
    },
    {
      "cell_type": "markdown",
      "source": [
        "Você precisa calcular o **ticket médio** diário tkt do seu restaurante. A métrica é calculada pela soma do valor das vendas svv de um mesmo dia dividido pela quantidade de vendas sqv, também de um mesmo dia."
      ],
      "metadata": {
        "id": "1NowZyTFFHaj"
      }
    },
    {
      "cell_type": "markdown",
      "source": [
        "***tkt = svv/sqv***"
      ],
      "metadata": {
        "id": "UfVUxZdiF3wN"
      }
    },
    {
      "cell_type": "markdown",
      "source": [
        "Esta é a sua planilha:\n",
        "\n",
        "| Dia | Valor total Vedas | Qtd Total Vendas | Ticket Médio\n",
        "    |---|---|---|---|\n",
        "    | 19/01 | 153.98 | 3 | ? |\n",
        "    | 20/01 | 337.01 | 7 | ? |\n",
        "    | 19/01 | 295.33 | 5 | ? |\n",
        "    \n"
      ],
      "metadata": {
        "id": "sCmInv8KGOsL"
      }
    },
    {
      "cell_type": "markdown",
      "source": [
        "Como podemos fazer este cálculo usando Python?"
      ],
      "metadata": {
        "id": "dWrsA3GxIogX"
      }
    },
    {
      "cell_type": "code",
      "source": [
        "from datetime import datetime\n",
        "\n",
        "print(\"Registro de Vendas diarias\")\n",
        "print(30*(\"-\"))\n",
        "\n",
        "svv = ()\n",
        "sqv = ()\n",
        "tkt = ()\n",
        "\n",
        "svv = float(input(\"Digite o valor total de vendas do dia: \"))\n",
        "sqv = int(input(\"Digite a quantidade de vendas do dia: \"))\n",
        "\n",
        "tkt = svv/sqv\n",
        "\n",
        "print(\"O ticket médio diário é: \", tkt)"
      ],
      "metadata": {
        "colab": {
          "base_uri": "https://localhost:8080/"
        },
        "id": "hkNoxi_CI4uH",
        "outputId": "f22454e0-47dd-49f2-8685-688907923799"
      },
      "execution_count": null,
      "outputs": [
        {
          "output_type": "stream",
          "name": "stdout",
          "text": [
            "Registro de Vendas diarias\n",
            "------------------------------\n",
            "Digite o valor total de vendas do dia: 153.98\n",
            "Digite a quantidade de vendas do dia: 3\n",
            "O ticket médio diário é:  51.32666666666666\n"
          ]
        }
      ]
    },
    {
      "cell_type": "markdown",
      "source": [
        "### **3.2 Definição**"
      ],
      "metadata": {
        "id": "fLGqxQeXR4Qt"
      }
    },
    {
      "cell_type": "markdown",
      "source": [
        "Armazenam **valores numéricos**:\n",
        "\n",
        "\n",
        "\n",
        "*   **int** (inteiros):\n",
        "*   **float** (decimais):\n",
        "*   **complex** (complexos).\n",
        "\n",
        "\n",
        "\n",
        "\n",
        "\n"
      ],
      "metadata": {
        "id": "dygMuhiwSjLE"
      }
    },
    {
      "cell_type": "code",
      "source": [
        "print(type(37))\n",
        "print(type(10.1))\n",
        "print(type(1 + 2j))"
      ],
      "metadata": {
        "colab": {
          "base_uri": "https://localhost:8080/"
        },
        "id": "MGw8oSMeYsFA",
        "outputId": "068e7466-08d2-4833-f05c-cbec3194f75a"
      },
      "execution_count": null,
      "outputs": [
        {
          "output_type": "stream",
          "name": "stdout",
          "text": [
            "<class 'int'>\n",
            "<class 'float'>\n",
            "<class 'complex'>\n"
          ]
        }
      ]
    },
    {
      "cell_type": "code",
      "source": [],
      "metadata": {
        "id": "3MnBjDKbK8qt"
      },
      "execution_count": null,
      "outputs": []
    },
    {
      "cell_type": "markdown",
      "source": [
        "### **3.3 Operações**"
      ],
      "metadata": {
        "id": "0JoMwEgXZGyD"
      }
    },
    {
      "cell_type": "markdown",
      "source": [
        "As operações dos tipos numéricos são operações matemáticas fundamentais:\n",
        "\n",
        "*   \" + \" (soma);\n",
        "*   \" - \" (subtração);\n",
        "*   \" * \" (multiplicação);\n",
        "*   \" / \" (divisão).\n",
        "\n",
        "Alémde operações mais avançadas:\n",
        "\n",
        "*   \" // \" (divisão inteira);\n",
        "*   \" ** \" (potência ou exponenciação);\n",
        "*   \" % \"  (resto da divisão).\n",
        "\n",
        "\n",
        "**Exemplo:** carrinho de compra de um e-commerce.\n"
      ],
      "metadata": {
        "id": "bJ2ZJb63ZPp0"
      }
    },
    {
      "cell_type": "code",
      "source": [
        "qtd_items_carrinho_compra = 0\n",
        "\n",
        "qtd_items_carrinho_compra = qtd_items_carrinho_compra +1\n",
        "print(qtd_items_carrinho_compra)\n",
        "\n",
        "qtd_items_carrinho_compra = qtd_items_carrinho_compra -1\n",
        "print(qtd_items_carrinho_compra)\n"
      ],
      "metadata": {
        "colab": {
          "base_uri": "https://localhost:8080/"
        },
        "id": "mSDidSUZa5h5",
        "outputId": "1edc983b-78e3-4ce1-f37a-6e3042b3579e"
      },
      "execution_count": null,
      "outputs": [
        {
          "output_type": "stream",
          "name": "stdout",
          "text": [
            "1\n",
            "0\n"
          ]
        }
      ]
    },
    {
      "cell_type": "code",
      "source": [
        "qtd_items_carrinho_compra = 0\n",
        "\n",
        "qtd_items_carrinho_compra += 1\n",
        "print(qtd_items_carrinho_compra)\n",
        "\n",
        "qtd_items_carrinho_compra += 1\n",
        "print(qtd_items_carrinho_compra)"
      ],
      "metadata": {
        "colab": {
          "base_uri": "https://localhost:8080/"
        },
        "id": "4ZQb-fHbs_TL",
        "outputId": "4158d302-a48b-4aaa-b8ce-c213fd7fabac"
      },
      "execution_count": null,
      "outputs": [
        {
          "output_type": "stream",
          "name": "stdout",
          "text": [
            "1\n",
            "2\n"
          ]
        }
      ]
    },
    {
      "cell_type": "markdown",
      "source": [
        "**Exemplo:** Total a pagar de um produto."
      ],
      "metadata": {
        "id": "LTzXcpDTzNqa"
      }
    },
    {
      "cell_type": "code",
      "source": [
        "preco = 47\n",
        "quantidade = 0.25\n",
        "\n",
        "total_a_pagar = quantidade * preco\n",
        "print(total_a_pagar)"
      ],
      "metadata": {
        "colab": {
          "base_uri": "https://localhost:8080/"
        },
        "id": "2IvTBtHFzNQx",
        "outputId": "0ceb4822-ac94-4d33-db85-1a1519c7600f"
      },
      "execution_count": null,
      "outputs": [
        {
          "output_type": "stream",
          "name": "stdout",
          "text": [
            "11.75\n"
          ]
        }
      ]
    },
    {
      "cell_type": "markdown",
      "source": [
        "### **3.4 Conversão**"
      ],
      "metadata": {
        "id": "i2xO5N-7z2Df"
      }
    },
    {
      "cell_type": "markdown",
      "source": [
        "Podemos converter os tipos numéricos entre si utilizando o método nativo int, float e complex.\n"
      ],
      "metadata": {
        "id": "ufRc5OHkz9vj"
      }
    },
    {
      "cell_type": "code",
      "source": [
        "print(int(3.9))\n",
        "\n",
        "print(float(10))\n",
        "\n",
        "print(complex(1))\n"
      ],
      "metadata": {
        "colab": {
          "base_uri": "https://localhost:8080/"
        },
        "id": "bXVUxRYo0SBi",
        "outputId": "889ed862-a9bc-4250-f6d3-ded858e7a79b"
      },
      "execution_count": null,
      "outputs": [
        {
          "output_type": "stream",
          "name": "stdout",
          "text": [
            "3\n",
            "10.0\n",
            "(1+0j)\n"
          ]
        }
      ]
    },
    {
      "cell_type": "markdown",
      "source": [
        "# **4. Strings**"
      ],
      "metadata": {
        "id": "C8ukNbyW2K51"
      }
    },
    {
      "cell_type": "markdown",
      "source": [
        "A empresa que você trabalha adquiriu uma startup de logistica. Você precisa identificar todos os endereços que são comum a ambas. Na sua empresa, você armazena a latitude e longitude dos endereços em duas variáveis lat e lon, já startup adquirida em umaúnica variável latlon"
      ],
      "metadata": {
        "id": "7ugN7znF2fXl"
      }
    },
    {
      "cell_type": "code",
      "source": [
        "# Sua empresa\n",
        "lat = \"-22.0053\"\n",
        "lon = \"-47.8910\"\n",
        "\n",
        "# Startup adquirida\n",
        "latlon = \"-22.0053; -47.8910\""
      ],
      "metadata": {
        "id": "GnzlPCOG3Y4V"
      },
      "execution_count": null,
      "outputs": []
    },
    {
      "cell_type": "markdown",
      "source": [
        "Como podemos normalizar a forma com que as latitudes são armazenadas para possam ser comparadas?"
      ],
      "metadata": {
        "id": "iDQtAJFG3kg4"
      }
    },
    {
      "cell_type": "markdown",
      "source": [
        "Encontrando a posição do caracter ; de divisão das strings de latitude e longitude da variável startup:"
      ],
      "metadata": {
        "id": "BtWGhm6Xbt10"
      }
    },
    {
      "cell_type": "code",
      "source": [
        "posicao_char_divisao = latlon.find(\";\")\n",
        "print(posicao_char_divisao)"
      ],
      "metadata": {
        "colab": {
          "base_uri": "https://localhost:8080/"
        },
        "id": "XwTpFY3MbcwF",
        "outputId": "347751ab-5902-40fc-b7d2-158254f96190"
      },
      "execution_count": null,
      "outputs": [
        {
          "output_type": "stream",
          "name": "stdout",
          "text": [
            "8\n"
          ]
        }
      ]
    },
    {
      "cell_type": "markdown",
      "source": [
        "Extraindo a latitude:"
      ],
      "metadata": {
        "id": "Dhkm-tN7cGiI"
      }
    },
    {
      "cell_type": "code",
      "source": [
        "lat_startup =  latlon[0:posicao_char_divisao]\n",
        "print(lat_startup)"
      ],
      "metadata": {
        "colab": {
          "base_uri": "https://localhost:8080/"
        },
        "id": "RJYtVMTQccyQ",
        "outputId": "a251bd74-9108-4c9a-bbb7-8567c4f92b86"
      },
      "execution_count": null,
      "outputs": [
        {
          "output_type": "stream",
          "name": "stdout",
          "text": [
            "-22.0053\n"
          ]
        }
      ]
    },
    {
      "cell_type": "markdown",
      "source": [
        "Extraindo a longitude:"
      ],
      "metadata": {
        "id": "frw3FQnWc9LG"
      }
    },
    {
      "cell_type": "code",
      "source": [
        "lon_startup = latlon[posicao_char_divisao+1:len(latlon)]\n",
        "print(lon_startup)"
      ],
      "metadata": {
        "colab": {
          "base_uri": "https://localhost:8080/"
        },
        "id": "ZFxqhmKAdDxk",
        "outputId": "c6ebf50e-6fa8-46f8-dbe0-1a3bd514e0c3"
      },
      "execution_count": null,
      "outputs": [
        {
          "output_type": "stream",
          "name": "stdout",
          "text": [
            " -47.8910\n"
          ]
        }
      ]
    },
    {
      "cell_type": "markdown",
      "source": [
        "### **4.2 Definição**"
      ],
      "metadata": {
        "id": "Xkl9pnj13xg5"
      }
    },
    {
      "cell_type": "markdown",
      "source": [
        "Armazenam **textos**:\n",
        "\n",
        "\n",
        "*   c, EBAC, Andre Perez, 20 anos (texto)\n",
        "\n",
        "\n",
        "\n"
      ],
      "metadata": {
        "id": "DrJIMrrx367q"
      }
    },
    {
      "cell_type": "markdown",
      "source": [
        "São tipos str:"
      ],
      "metadata": {
        "id": "G1UAeVS24B1k"
      }
    },
    {
      "cell_type": "code",
      "source": [
        "nome_aula = \"Aula 04, modulo 01, Strings\"\n",
        "\n",
        "print(nome_aula)\n",
        "print(type(nome_aula))"
      ],
      "metadata": {
        "colab": {
          "base_uri": "https://localhost:8080/"
        },
        "id": "DEQ3k54ZG-pS",
        "outputId": "02c977d8-c99c-4d05-f272-2ad2ece3e93b"
      },
      "execution_count": null,
      "outputs": [
        {
          "output_type": "stream",
          "name": "stdout",
          "text": [
            "Aula 04, modulo 01, Strings\n",
            "<class 'str'>\n"
          ]
        }
      ]
    },
    {
      "cell_type": "code",
      "source": [
        "string_vazia = \"\"\n",
        "\n",
        "print(string_vazia)\n",
        "print(type(string_vazia))"
      ],
      "metadata": {
        "colab": {
          "base_uri": "https://localhost:8080/"
        },
        "id": "KmO7XoxZHeyv",
        "outputId": "5b78b3fa-e5ed-4fbf-f06b-d1f14e061a82"
      },
      "execution_count": null,
      "outputs": [
        {
          "output_type": "stream",
          "name": "stdout",
          "text": [
            "\n",
            "<class 'str'>\n"
          ]
        }
      ]
    },
    {
      "cell_type": "markdown",
      "source": [
        "### **4.3 Operações**"
      ],
      "metadata": {
        "id": "b1X1wCPFHo7s"
      }
    },
    {
      "cell_type": "markdown",
      "source": [
        "As operações de variaáveis dp tipo string são:\n",
        "\n",
        "\n",
        "*   \" + \"  (concatenação)\n",
        "\n",
        "**Exemplo:** Nome completo.\n",
        "\n"
      ],
      "metadata": {
        "id": "2TdYTNPjH1cg"
      }
    },
    {
      "cell_type": "code",
      "source": [
        "nome = \"Andre Marcos\"\n",
        "sobrenome = \"Perez\"\n",
        "\n",
        "apresentacao = \"Olá, meu nome é \" + nome +\" \"+ sobrenome + \".\"\n",
        "print(apresentacao)"
      ],
      "metadata": {
        "colab": {
          "base_uri": "https://localhost:8080/"
        },
        "id": "DIu_KCFwIYku",
        "outputId": "d73b960b-112e-4e7b-b8d1-a072a0645b51"
      },
      "execution_count": null,
      "outputs": [
        {
          "output_type": "stream",
          "name": "stdout",
          "text": [
            "Olá, meu nome é Andre Marcos Perez.\n"
          ]
        }
      ]
    },
    {
      "cell_type": "markdown",
      "source": [
        "Uma outra forma de concatenar string é utilizar operações de formatação."
      ],
      "metadata": {
        "id": "TPphkO2QJb7U"
      }
    },
    {
      "cell_type": "code",
      "source": [
        "nome = \"Andre Marcos\"\n",
        "sobrenome = \"Perez\"\n",
        "\n",
        "apresentacao = f\"Olá, meu nome é {nome} {sobrenome}.\"\n",
        "print(apresentacao)"
      ],
      "metadata": {
        "colab": {
          "base_uri": "https://localhost:8080/"
        },
        "id": "LepjTRQ5Jyx2",
        "outputId": "922e8c61-65fa-4719-d034-0f6b170dda0d"
      },
      "execution_count": null,
      "outputs": [
        {
          "output_type": "stream",
          "name": "stdout",
          "text": [
            "Olá, meu nome é Andre Marcos Perez.\n"
          ]
        }
      ]
    },
    {
      "cell_type": "markdown",
      "source": [
        "Outra operação muito utilizada é a de fatiament (slicing):\n",
        "\n",
        "**Exemplo:** informação de e-mail."
      ],
      "metadata": {
        "id": "sOx6246QL0MX"
      }
    },
    {
      "cell_type": "code",
      "source": [
        "email = \"andre.perez@gmail.com\""
      ],
      "metadata": {
        "id": "_sveRS1TLziR"
      },
      "execution_count": null,
      "outputs": []
    },
    {
      "cell_type": "markdown",
      "source": [
        "Fatiamento fixo:\n",
        "\n",
        "\n",
        "**a n d r e . p e r e z @ g m a i l . c o m**\n",
        "\n",
        "\n",
        "---\n",
        "\n",
        "\n",
        "\n",
        "0 1 2 3 4 5 6 7 8 9 10 11 12 13 14 15 16 17 18 19 20\n"
      ],
      "metadata": {
        "id": "LJIXp5N2Mng_"
      }
    },
    {
      "cell_type": "code",
      "source": [
        "print(\"0: \" + email[0])\n",
        "print(\"11: \" + email[11])"
      ],
      "metadata": {
        "colab": {
          "base_uri": "https://localhost:8080/"
        },
        "id": "x5TraGtNNPAh",
        "outputId": "2b3e70c6-d208-4a44-d6b9-76b11a1406b0"
      },
      "execution_count": null,
      "outputs": [
        {
          "output_type": "stream",
          "name": "stdout",
          "text": [
            "0: a\n",
            "11: @\n"
          ]
        }
      ]
    },
    {
      "cell_type": "code",
      "source": [
        "print(\"-1: \" + email[-1])\n",
        "print(\"-2: \" + email[-2])"
      ],
      "metadata": {
        "colab": {
          "base_uri": "https://localhost:8080/"
        },
        "id": "7KPI0jc2Obt4",
        "outputId": "87714f96-257e-40bb-9ffd-b701e13781a6"
      },
      "execution_count": null,
      "outputs": [
        {
          "output_type": "stream",
          "name": "stdout",
          "text": [
            "-1: m\n",
            "-2: o\n"
          ]
        }
      ]
    },
    {
      "cell_type": "markdown",
      "source": [
        "Fatiamento por intervalo:\n",
        "\n",
        "\n",
        "**a n d r e . p e r e z @ g m a i l . c o m**\n",
        "\n",
        "\n",
        "---\n",
        "\n",
        "\n",
        "\n",
        "0 1 2 3 4 5 6 7 8 9 10 11 12 13 14 15 16 17 18 19 20\n"
      ],
      "metadata": {
        "id": "mrHgxpOdPEkz"
      }
    },
    {
      "cell_type": "code",
      "source": [
        "email_usuario = email[0:11]\n",
        "print(email_usuario)"
      ],
      "metadata": {
        "colab": {
          "base_uri": "https://localhost:8080/"
        },
        "id": "SCQf9yRlS7JV",
        "outputId": "bb050874-afd9-4603-c104-4c02a4b5197c"
      },
      "execution_count": null,
      "outputs": [
        {
          "output_type": "stream",
          "name": "stdout",
          "text": [
            "andre.perez\n"
          ]
        }
      ]
    },
    {
      "cell_type": "code",
      "source": [
        "email_provedor = email[12:21]\n",
        "print(email_provedor)"
      ],
      "metadata": {
        "colab": {
          "base_uri": "https://localhost:8080/"
        },
        "id": "elFBC2mWTvP9",
        "outputId": "496b1b62-3136-4314-b090-d2917205fc81"
      },
      "execution_count": null,
      "outputs": [
        {
          "output_type": "stream",
          "name": "stdout",
          "text": [
            "gmail.com\n"
          ]
        }
      ]
    },
    {
      "cell_type": "markdown",
      "source": [
        "### **4.4 Métodos**\n"
      ],
      "metadata": {
        "id": "uXW-blfDUCPP"
      }
    },
    {
      "cell_type": "markdown",
      "source": [
        "São métodos nativos do Python que nos ajudam a trabalhar no dia a dia com stings:"
      ],
      "metadata": {
        "id": "wq4M5tshU3i8"
      }
    },
    {
      "cell_type": "code",
      "source": [
        "endereco = \"Avenida Paulista, 1811, São Paulo, São Paulo, Brasil.\""
      ],
      "metadata": {
        "id": "nlS-29rfVJPm"
      },
      "execution_count": null,
      "outputs": []
    },
    {
      "cell_type": "code",
      "source": [
        "# maisculo: string.upper()\n",
        "print(endereco.upper())"
      ],
      "metadata": {
        "colab": {
          "base_uri": "https://localhost:8080/"
        },
        "id": "U2vDtimXVjet",
        "outputId": "6fb8751f-c258-45d7-d27c-024c5243fdcc"
      },
      "execution_count": null,
      "outputs": [
        {
          "output_type": "stream",
          "name": "stdout",
          "text": [
            "AVENIDA PAULISTA, 1811, SÃO PAULO, SÃO PAULO, BRASIL.\n"
          ]
        }
      ]
    },
    {
      "cell_type": "code",
      "source": [
        "# posição: string.find(substring)\n",
        "posicao = endereco.find(\"Brasil\")\n",
        "print(posicao)"
      ],
      "metadata": {
        "colab": {
          "base_uri": "https://localhost:8080/"
        },
        "id": "9lI6taLhWkUA",
        "outputId": "72bfd19e-682c-4a73-8cf6-8e34498ec433"
      },
      "execution_count": null,
      "outputs": [
        {
          "output_type": "stream",
          "name": "stdout",
          "text": [
            "46\n"
          ]
        }
      ]
    },
    {
      "cell_type": "code",
      "source": [
        "# substituição: string.replace(antigo, novo)\n",
        "print(endereco.replace(\"Avenida\",\"Av\"))"
      ],
      "metadata": {
        "colab": {
          "base_uri": "https://localhost:8080/"
        },
        "id": "Vl8d7i3LXFth",
        "outputId": "2258b56a-a339-4d5f-822d-870ac903fbde"
      },
      "execution_count": null,
      "outputs": [
        {
          "output_type": "stream",
          "name": "stdout",
          "text": [
            "Av Paulista, 1811, São Paulo, São Paulo, Brasil.\n"
          ]
        }
      ]
    },
    {
      "cell_type": "markdown",
      "source": [
        "### **4.5 Conversão**\n"
      ],
      "metadata": {
        "id": "EakIvCdZULT1"
      }
    },
    {
      "cell_type": "markdown",
      "source": [
        "Podemos converter strings em tipos númericos e vice-versa."
      ],
      "metadata": {
        "id": "kCeIv8ziY51-"
      }
    },
    {
      "cell_type": "code",
      "source": [
        "idade = 19\n",
        "print(type(idade))\n",
        "\n",
        "idade = str(idade)\n",
        "print(type(idade))"
      ],
      "metadata": {
        "colab": {
          "base_uri": "https://localhost:8080/"
        },
        "id": "JvgJIXahZHy-",
        "outputId": "21d3e56f-ca4b-4ecd-cb37-6f786827e89c"
      },
      "execution_count": null,
      "outputs": [
        {
          "output_type": "stream",
          "name": "stdout",
          "text": [
            "<class 'int'>\n",
            "<class 'str'>\n"
          ]
        }
      ]
    },
    {
      "cell_type": "code",
      "source": [
        "faturamento = \"R$ 35 mi\"\n",
        "print(faturamento)\n",
        "print(type(faturamento))\n",
        "\n",
        "faturamento = int(faturamento[3:5])\n",
        "print(faturamento)\n",
        "print(type(faturamento))"
      ],
      "metadata": {
        "colab": {
          "base_uri": "https://localhost:8080/"
        },
        "id": "AwmkQ_FjZVAZ",
        "outputId": "c6f113d2-a955-4e7c-da93-c066cda3dcde"
      },
      "execution_count": null,
      "outputs": [
        {
          "output_type": "stream",
          "name": "stdout",
          "text": [
            "R$ 35 mi\n",
            "<class 'str'>\n",
            "35\n",
            "<class 'int'>\n"
          ]
        }
      ]
    },
    {
      "cell_type": "markdown",
      "source": [
        "# **5 Boleanos**"
      ],
      "metadata": {
        "id": "TQA3SzMadwtp"
      }
    },
    {
      "cell_type": "markdown",
      "source": [
        "Em websites (redes sociais, e-commerce, corporativos, etc.) é comum o uso de sistemas de contole de acesso, o famoso login. Em geral, nestes sistemas um usuário fornece dois dados: *usuário* e *senha*:"
      ],
      "metadata": {
        "id": "usHbcXpcja0H"
      }
    },
    {
      "cell_type": "code",
      "source": [
        "usuario = \"andre.perez\"\n",
        "senha = \"andre123\""
      ],
      "metadata": {
        "id": "f_i0-P9Fk49c"
      },
      "execution_count": null,
      "outputs": []
    },
    {
      "cell_type": "markdown",
      "source": [
        "Do lado do servidor, o backend do website tem armazenado os dados de usuário e senha fornecidas pelo usuário no momento de cadastro: usuario_cadastro e senha_cadastro\n"
      ],
      "metadata": {
        "id": "SkwmdqVAlES7"
      }
    },
    {
      "cell_type": "code",
      "source": [
        "usuario_cadastro = \"andre.perez\"\n",
        "senha_cadastro = \"andre321\""
      ],
      "metadata": {
        "id": "FC4bUviUljcn"
      },
      "execution_count": null,
      "outputs": []
    },
    {
      "cell_type": "markdown",
      "source": [
        "Como comparamos se as strings ( usuario, usuario_cadastro) e (senha, senha_cadastro) são iguais para conceder ou bloquear o acesso do usuário?"
      ],
      "metadata": {
        "id": "M4_nbHcklzuw"
      }
    },
    {
      "cell_type": "markdown",
      "source": [
        "Decide se concede o acesso:"
      ],
      "metadata": {
        "id": "ic2GEVcpaDdu"
      }
    },
    {
      "cell_type": "code",
      "source": [
        "usuario_validado = usuario == usuario_cadastro\n",
        "print(usuario_validado)\n",
        "\n",
        "senha_validada = senha == senha_cadastro\n",
        "print(senha_validada)\n",
        "\n",
        "if senha == senha_cadastro and usuario == usuario_cadastro:\n",
        "    print(\"Acesso liberado\")\n",
        "else:\n",
        "    print(\"Acesso bloqueado\")"
      ],
      "metadata": {
        "colab": {
          "base_uri": "https://localhost:8080/"
        },
        "id": "pL_HtGOjnAo4",
        "outputId": "07d6ebd6-e722-49dc-d4af-1ca80957c0a9"
      },
      "execution_count": null,
      "outputs": [
        {
          "output_type": "stream",
          "name": "stdout",
          "text": [
            "True\n",
            "False\n",
            "Acesso bloqueado\n"
          ]
        }
      ]
    },
    {
      "cell_type": "markdown",
      "source": [
        "### **5.2 Definição**\n"
      ],
      "metadata": {
        "id": "4HOTFs2Pd_4h"
      }
    },
    {
      "cell_type": "markdown",
      "source": [
        "Armazenam **valores lógicos:**\n",
        "\n",
        "\n",
        "\n",
        "*   True: (verdadeiro);\n",
        "*   False: (falso)."
      ],
      "metadata": {
        "id": "4u7pMHynqGZr"
      }
    },
    {
      "cell_type": "code",
      "source": [
        "verdadeiro = True\n",
        "print(verdadeiro)\n",
        "\n",
        "falso = False\n",
        "print(falso)"
      ],
      "metadata": {
        "colab": {
          "base_uri": "https://localhost:8080/"
        },
        "id": "kBGTSRrTqitF",
        "outputId": "a05bd4c0-367b-4418-b3e4-ac7c88abc82e"
      },
      "execution_count": null,
      "outputs": [
        {
          "output_type": "stream",
          "name": "stdout",
          "text": [
            "True\n",
            "False\n"
          ]
        }
      ]
    },
    {
      "cell_type": "markdown",
      "source": [
        "São do tipo bool."
      ],
      "metadata": {
        "id": "uAmtxbyLqz6v"
      }
    },
    {
      "cell_type": "code",
      "source": [
        "print(type(True))"
      ],
      "metadata": {
        "colab": {
          "base_uri": "https://localhost:8080/"
        },
        "id": "QYWzV_2fq6AU",
        "outputId": "6ae3de04-734c-4113-d333-2e6304c0b746"
      },
      "execution_count": null,
      "outputs": [
        {
          "output_type": "stream",
          "name": "stdout",
          "text": [
            "<class 'bool'>\n"
          ]
        }
      ]
    },
    {
      "cell_type": "markdown",
      "source": [
        "São resultados de comparações lógicas. Os operadores de comparação lógica são:\n",
        "\n",
        "\n",
        "*   \" > \" (maior);\n",
        "*   \" < \" (menor);\n",
        "*   \" == \" (igual);\n",
        "*   \" >= \" (maior ou igual);\n",
        "*   \" <= \" (menor ou igual);\n",
        "*   \" != \" (diferente).\n",
        "\n",
        "**Exemplo**: Caixa eletrônico\n",
        "\n",
        "\n"
      ],
      "metadata": {
        "id": "bkRnHnk_Mq-_"
      }
    },
    {
      "cell_type": "code",
      "source": [
        "saldo_em_conta = 200\n",
        "valor_do_saque = 100\n",
        "\n",
        "pode_executar_saque = valor_do_saque <= saldo_em_conta\n",
        "print(pode_executar_saque)"
      ],
      "metadata": {
        "colab": {
          "base_uri": "https://localhost:8080/"
        },
        "id": "FQVimVyDPa6I",
        "outputId": "6a454bfd-f7a2-46c0-c6ae-698eede5d805"
      },
      "execution_count": null,
      "outputs": [
        {
          "output_type": "stream",
          "name": "stdout",
          "text": [
            "True\n"
          ]
        }
      ]
    },
    {
      "cell_type": "markdown",
      "source": [
        "**Exemplo**: Cartão de crédito"
      ],
      "metadata": {
        "id": "SA-xn14mQaza"
      }
    },
    {
      "cell_type": "code",
      "source": [
        "codigo_seguranca = \"852\"\n",
        "codigo_seguranca_cadastro = \"010\"\n",
        "\n",
        "pode_efetuar_pagamento = codigo_seguranca == codigo_seguranca_cadastro\n",
        "print(pode_efetuar_pagamento)"
      ],
      "metadata": {
        "colab": {
          "base_uri": "https://localhost:8080/"
        },
        "id": "RWu8vWJUQlBm",
        "outputId": "b0e7c791-dc95-435f-9487-3dcd66d9c6d2"
      },
      "execution_count": null,
      "outputs": [
        {
          "output_type": "stream",
          "name": "stdout",
          "text": [
            "False\n"
          ]
        }
      ]
    },
    {
      "cell_type": "markdown",
      "source": [
        "### **5.3 Operações**\n"
      ],
      "metadata": {
        "id": "CcQSp7PbeOt0"
      }
    },
    {
      "cell_type": "markdown",
      "source": [
        "As operações de variáveis booleanas são:\n",
        "\n",
        "\n",
        "\n",
        "*   | (operador ou)\n",
        "*   & (operador e)\n",
        "*   not (operador não)\n",
        "\n",
        "O conjunto de resultados de operações lógicas geralmente é resumido em uma chamada \"tabela de verdade\"\n",
        "\n",
        "\n",
        "|  A  |  B  |  A OR B  |  A AND B  |  NOT A  |\n",
        "|----------|----------|----------|----------|----------|\n",
        "|  TRUE  |  TRUE  |  TRUE  |  TRUE  |  FALSE  |\n",
        "|  TRUE  |  FALSE  |  TRUE  |  FALSE  |  FALSE  |\n",
        "|  FALSE  |  FALSE  |  FALSE  |  FALSE  |  TRUE  |\n",
        "|  FALSE  |  TRUE  |  TRUE  |  FALSE  |  TRUE  |\n"
      ],
      "metadata": {
        "id": "xMZFJa0eRfOa"
      }
    },
    {
      "cell_type": "markdown",
      "source": [
        "**Exemplo**: Tabela de verdade do operador | (ou)."
      ],
      "metadata": {
        "id": "mw1IB_w-U7um"
      }
    },
    {
      "cell_type": "code",
      "source": [
        "print(True | True)\n",
        "print(True | False)\n",
        "print(False | True)\n",
        "print(False | False)"
      ],
      "metadata": {
        "colab": {
          "base_uri": "https://localhost:8080/"
        },
        "id": "2Bm3Q6LlVF2L",
        "outputId": "77d7e2c7-f072-4e80-c29f-c59f15a5fa3e"
      },
      "execution_count": null,
      "outputs": [
        {
          "output_type": "stream",
          "name": "stdout",
          "text": [
            "True\n",
            "True\n",
            "True\n",
            "False\n"
          ]
        }
      ]
    },
    {
      "cell_type": "markdown",
      "source": [
        "**Exemplo:** Tabela de verdade do operador & (e).\n"
      ],
      "metadata": {
        "id": "ISvT-mFeVX2z"
      }
    },
    {
      "cell_type": "code",
      "source": [
        "print(True & True)\n",
        "print(True & False)\n",
        "print(False & True)\n",
        "print(False & False)"
      ],
      "metadata": {
        "colab": {
          "base_uri": "https://localhost:8080/"
        },
        "id": "Yn2ZZzeIVf7e",
        "outputId": "790a27a5-2851-4b56-9945-2e912b9d9751"
      },
      "execution_count": null,
      "outputs": [
        {
          "output_type": "stream",
          "name": "stdout",
          "text": [
            "True\n",
            "False\n",
            "False\n",
            "False\n"
          ]
        }
      ]
    },
    {
      "cell_type": "markdown",
      "source": [
        "**Exemplo:** Tabela de verdade do operador not (não)."
      ],
      "metadata": {
        "id": "wPpImvapV3qU"
      }
    },
    {
      "cell_type": "code",
      "source": [
        "print(not True)\n",
        "print(not False)"
      ],
      "metadata": {
        "colab": {
          "base_uri": "https://localhost:8080/"
        },
        "id": "6nRcJ0LZWIP-",
        "outputId": "4736ed8d-6238-4903-a6d2-276ba65e2748"
      },
      "execution_count": null,
      "outputs": [
        {
          "output_type": "stream",
          "name": "stdout",
          "text": [
            "False\n",
            "True\n"
          ]
        }
      ]
    },
    {
      "cell_type": "markdown",
      "source": [
        "### **5.4 Conversão**\n"
      ],
      "metadata": {
        "id": "3IMXbpL-ePI6"
      }
    },
    {
      "cell_type": "markdown",
      "source": [
        "Podemos converter tipos númericos e strings para booleanos através do método nativo bool:"
      ],
      "metadata": {
        "id": "kHag4JdNYc2s"
      }
    },
    {
      "cell_type": "code",
      "source": [
        "idade = 19\n",
        "tipo_sangue = \"O-\"\n",
        "filhos = 0\n",
        "telefone_fixo = None\n",
        "telefone_fixo = \"\"\n",
        "\n",
        "print(bool(idade))\n",
        "print(bool(tipo_sangue))\n",
        "print(bool(filhos))\n",
        "print(bool(telefone_fixo))\n",
        "print(bool(telefone_fixo))"
      ],
      "metadata": {
        "colab": {
          "base_uri": "https://localhost:8080/"
        },
        "id": "YJtLKG6YYq7U",
        "outputId": "d5c10d97-d789-46cc-b452-4e5e62c3f4a2"
      },
      "execution_count": null,
      "outputs": [
        {
          "output_type": "stream",
          "name": "stdout",
          "text": [
            "True\n",
            "True\n",
            "False\n",
            "False\n",
            "False\n"
          ]
        }
      ]
    }
  ]
}