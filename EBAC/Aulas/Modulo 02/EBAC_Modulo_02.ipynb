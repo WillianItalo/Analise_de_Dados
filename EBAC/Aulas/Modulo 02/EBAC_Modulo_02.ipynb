{
  "nbformat": 4,
  "nbformat_minor": 0,
  "metadata": {
    "colab": {
      "provenance": []
    },
    "kernelspec": {
      "name": "python3",
      "display_name": "Python 3"
    },
    "language_info": {
      "name": "python"
    }
  },
  "cells": [
    {
      "cell_type": "code",
      "execution_count": null,
      "metadata": {
        "id": "rOHfVaGHmChp"
      },
      "outputs": [],
      "source": []
    },
    {
      "cell_type": "markdown",
      "source": [
        "# **1. Listas**"
      ],
      "metadata": {
        "id": "ScNi49bPmQNp"
      }
    },
    {
      "cell_type": "markdown",
      "source": [
        "O aplicativo do seu banco registra toda a sua movimentação financeira. O final do dia, o app consolida o saldo final para que você possa controlar sua vida financeira."
      ],
      "metadata": {
        "id": "dumKPoWYmd9R"
      }
    },
    {
      "cell_type": "code",
      "source": [
        "dia_11_saldo_inicial = 1000"
      ],
      "metadata": {
        "id": "Iqh8Uck9m-_1"
      },
      "execution_count": null,
      "outputs": []
    },
    {
      "cell_type": "code",
      "source": [
        "dia_11_transacao_1 = 243\n",
        "dia_11_transacao_2 = -798.58\n",
        "dia_11_transacao_3 = 427.12\n",
        "dia_11_transacao_4 = -10.91"
      ],
      "metadata": {
        "id": "CvjEdKnFnKn6"
      },
      "execution_count": null,
      "outputs": []
    },
    {
      "cell_type": "code",
      "source": [
        "dia_11_saldo_final = dia_11_saldo_inicial + dia_11_transacao_1 + dia_11_transacao_2 + dia_11_transacao_3 + dia_11_transacao_4\n",
        "\n",
        "print(dia_11_saldo_final)"
      ],
      "metadata": {
        "colab": {
          "base_uri": "https://localhost:8080/"
        },
        "id": "om3v5_QpndCE",
        "outputId": "592a1d3c-ae4b-4586-a616-18ce84c05b8c"
      },
      "execution_count": null,
      "outputs": [
        {
          "output_type": "stream",
          "name": "stdout",
          "text": [
            "860.63\n"
          ]
        }
      ]
    },
    {
      "cell_type": "markdown",
      "source": [
        "Sera que exista uma forma melhor de armazenar as transaçõe?"
      ],
      "metadata": {
        "id": "1ZhHZksbnZiy"
      }
    },
    {
      "cell_type": "markdown",
      "source": [
        "### **1.2 Definição**"
      ],
      "metadata": {
        "id": "ZEpPfUuioB9H"
      }
    },
    {
      "cell_type": "markdown",
      "source": [
        "Armazenam sequências mutáveis e ordenadas de valores, São tipo **list**:"
      ],
      "metadata": {
        "id": "TeVELss-pQB8"
      }
    },
    {
      "cell_type": "code",
      "source": [
        "usuario_web = [\"André Perez\", \"andre.perez\", \"andre123\", \"andre.perez@gmail.com\"]\n",
        "\n",
        "print(usuario_web)\n",
        "print(type(usuario_web))"
      ],
      "metadata": {
        "colab": {
          "base_uri": "https://localhost:8080/"
        },
        "id": "cKGexGrcp1wr",
        "outputId": "a0c054e5-bccf-43e3-d5dc-dc32c77d59ca"
      },
      "execution_count": null,
      "outputs": [
        {
          "output_type": "stream",
          "name": "stdout",
          "text": [
            "['André Perez', 'andre.perez', 'andre123', 'andre.perez@gmail.com']\n",
            "<class 'list'>\n"
          ]
        }
      ]
    },
    {
      "cell_type": "markdown",
      "source": [
        "### **1.3 Operações**"
      ],
      "metadata": {
        "id": "EY8ygd-poNXP"
      }
    },
    {
      "cell_type": "markdown",
      "source": [
        "### **1.4 Métodos**"
      ],
      "metadata": {
        "id": "Y0f00eC_oNF2"
      }
    },
    {
      "cell_type": "markdown",
      "source": [
        "### **1.5 Conversão**"
      ],
      "metadata": {
        "id": "vgaTXHnQocIE"
      }
    },
    {
      "cell_type": "markdown",
      "source": [
        "# **2. Conjuntos**"
      ],
      "metadata": {
        "id": "3N5IsGLIoo5o"
      }
    },
    {
      "cell_type": "markdown",
      "source": [
        "### **2.2 Definição**"
      ],
      "metadata": {
        "id": "_7fKdReKoo5q"
      }
    },
    {
      "cell_type": "markdown",
      "source": [
        "### **2.3 Operações**"
      ],
      "metadata": {
        "id": "jZolUf9Boo5q"
      }
    },
    {
      "cell_type": "markdown",
      "source": [
        "### **2.4 Métodos**"
      ],
      "metadata": {
        "id": "kqMDrVfsoo5q"
      }
    },
    {
      "cell_type": "markdown",
      "source": [
        "### **2.5 Conversão**"
      ],
      "metadata": {
        "id": "cmAfnLjwoo5q"
      }
    },
    {
      "cell_type": "markdown",
      "source": [
        "# **3. Dicionários**"
      ],
      "metadata": {
        "id": "JfNU3RLRo_gT"
      }
    },
    {
      "cell_type": "markdown",
      "source": [
        "### **3.2 Definição**"
      ],
      "metadata": {
        "id": "aWJF1BIKo_gU"
      }
    },
    {
      "cell_type": "markdown",
      "source": [
        "### **3.3 Operações**"
      ],
      "metadata": {
        "id": "QJvGyHiuo_gU"
      }
    },
    {
      "cell_type": "markdown",
      "source": [
        "### **3.4 Métodos**"
      ],
      "metadata": {
        "id": "PMuDU-8yo_gU"
      }
    },
    {
      "cell_type": "markdown",
      "source": [
        "### **3.5 Conversão**"
      ],
      "metadata": {
        "id": "zVR_u74Mo_gU"
      }
    }
  ]
}